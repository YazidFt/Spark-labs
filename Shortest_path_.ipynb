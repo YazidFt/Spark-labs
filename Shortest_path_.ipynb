{
 "cells": [
  {
   "cell_type": "markdown",
   "metadata": {},
   "source": [
    "### Shortest path (BFS):"
   ]
  },
  {
   "cell_type": "markdown",
   "metadata": {},
   "source": [
    "###### In this notebook Spark is used to construct the shortest path between two vertices s, f: The result is a sequence of vertices."
   ]
  },
  {
   "cell_type": "code",
   "execution_count": 1,
   "metadata": {},
   "outputs": [],
   "source": [
    "from pyspark import SparkConf, SparkContext\n",
    "sc = SparkContext(conf=SparkConf().setAppName(\"MyApp\").setMaster(\"local\"))"
   ]
  },
  {
   "cell_type": "code",
   "execution_count": 2,
   "metadata": {},
   "outputs": [],
   "source": [
    "def parse_edge(s):\n",
    "    user, follower = s.split(\"\\t\")\n",
    "    return (int(user), int(follower))\n",
    "\n",
    "def step(item):\n",
    "    prev_v, prev_d, next_v = item[0], item[1][0], item[1][1]\n",
    "    return (next_v, prev_v)\n",
    "\n",
    "def complete(item):\n",
    "    v, old_d, new_d = item[0], item[1][0], item[1][1]\n",
    "    return (v, old_d if old_d is not None else new_d)\n",
    "\n",
    "# def step_path(item):\n",
    "#     prev_v, path, next_v = item[0], item[1][0], item[1][1]\n",
    "#     path += tuple([next_v])\n",
    "#     return (next_v, path)"
   ]
  },
  {
   "cell_type": "code",
   "execution_count": 3,
   "metadata": {},
   "outputs": [],
   "source": [
    "def path_step(item):\n",
    "    prev_v, path, next_v = item[0], item[1][0], item[1][1]\n",
    "    prev_v = next_v\n",
    "    path += tuple([next_v])\n",
    "    return (prev_v,path)"
   ]
  },
  {
   "cell_type": "code",
   "execution_count": 5,
   "metadata": {},
   "outputs": [
    {
     "name": "stdout",
     "output_type": "stream",
     "text": [
      "12 -> 422 -> 53 -> 52 -> 107 -> 20 -> 23 -> 274 -> 34\n"
     ]
    }
   ],
   "source": [
    "n = 4\n",
    "edges = sc.textFile(\"/data/twitter/twitter_sample_small.txt\").map(parse_edge).cache()\n",
    "forward_edges = edges.map(lambda e: (e[1], e[0])).partitionBy(n).persist()\n",
    "\n",
    "s = 12\n",
    "f = 34\n",
    "\n",
    "paths = sc.parallelize([ (s, tuple([s])) ]).partitionBy(n)\n",
    "    \n",
    "while True:\n",
    "    paths = paths.join(forward_edges, n).map(path_step)\n",
    "    count = paths.filter(lambda p: p[0] == f).count()\n",
    "    if count > 0:\n",
    "        break\n",
    "    \n",
    "ans = paths.filter(lambda p: p[0] == f).collect()\n",
    "\n",
    "\n",
    "##Print the result\n",
    "print(' -> '.join(map(str, ans[0][1])))"
   ]
  },
  {
   "cell_type": "code",
   "execution_count": null,
   "metadata": {},
   "outputs": [],
   "source": []
  },
  {
   "cell_type": "code",
   "execution_count": 10,
   "metadata": {},
   "outputs": [],
   "source": [
    "# t = f\n",
    "# ans = []\n",
    "# ans.append(t)\n",
    "# c = 0\n",
    "# while t != 0:\n",
    "#     for i in l:\n",
    "#         if i[0] == t:\n",
    "#             t = i[1]\n",
    "#             ans.append(t)\n",
    "\n",
    "# nl = ans[::-1]\n",
    "# for el in range(1,len(nl)):\n",
    "#     print(nl[el], end = \"\")    \n",
    "#     if(el < len(nl)-1):\n",
    "#         print(\",\", end = \"\")"
   ]
  },
  {
   "cell_type": "code",
   "execution_count": null,
   "metadata": {},
   "outputs": [],
   "source": []
  },
  {
   "cell_type": "code",
   "execution_count": null,
   "metadata": {},
   "outputs": [],
   "source": []
  }
 ],
 "metadata": {
  "kernelspec": {
   "display_name": "Python 3",
   "language": "python",
   "name": "python3"
  },
  "language_info": {
   "codemirror_mode": {
    "name": "ipython",
    "version": 3
   },
   "file_extension": ".py",
   "mimetype": "text/x-python",
   "name": "python",
   "nbconvert_exporter": "python",
   "pygments_lexer": "ipython3",
   "version": "3.6.2"
  }
 },
 "nbformat": 4,
 "nbformat_minor": 2
}
